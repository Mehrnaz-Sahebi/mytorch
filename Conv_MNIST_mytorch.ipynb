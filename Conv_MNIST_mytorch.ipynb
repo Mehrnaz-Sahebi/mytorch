{
 "cells": [
  {
   "cell_type": "code",
   "execution_count": 23,
   "metadata": {
    "id": "JLdC4EBWfY_j"
   },
   "outputs": [],
   "source": [
    "#don't change this cell\n",
    "import pandas as pd\n",
    "import os\n",
    "import sys\n",
    "import numpy as np\n",
    "from mytorch import Tensor, Model\n",
    "from mytorch import activation as active_func\n",
    "from mytorch import loss as loss_func\n",
    "from mytorch import optimizer as optim\n",
    "from mytorch import layer as nn\n",
    "from mytorch import util\n",
    "from torchsummary import summary\n",
    "from tqdm import tqdm\n",
    "from torchvision.datasets import FashionMNIST\n",
    "from torchvision.transforms import ToTensor\n",
    "import matplotlib.pylab as plt"
   ]
  },
  {
   "cell_type": "code",
   "execution_count": 24,
   "metadata": {
    "id": "MO3PVnnwfY_l"
   },
   "outputs": [],
   "source": [
    "#don't change this cell\n",
    "# device = \"cuda\" if mytorch.cuda.is_available() else \"cpu\"\n",
    "device = \"cpu\""
   ]
  },
  {
   "cell_type": "code",
   "execution_count": 25,
   "metadata": {
    "id": "zwa_ZGM01DJM"
   },
   "outputs": [],
   "source": [
    "def to_one_hot(labels: Tensor, num_classes: int) -> Tensor:\n",
    "  one_hot = np.zeros((labels.data.size, num_classes), dtype=np.float64)\n",
    "  one_hot[np.arange(labels.data.size), labels.data.astype(int)] = 1.0\n",
    "  return Tensor(one_hot, requires_grad=labels.requires_grad, depends_on=labels.depends_on)\n"
   ]
  },
  {
   "cell_type": "code",
   "execution_count": 26,
   "metadata": {
    "colab": {
     "base_uri": "https://localhost:8080/"
    },
    "id": "PT4ujC28fY_m",
    "outputId": "f514b01d-c535-4959-abc9-eda6915a94b5"
   },
   "outputs": [
    {
     "name": "stdout",
     "output_type": "stream",
     "text": [
      "\n",
      "Training samples: (60000, 1, 28, 28), Testing samples: (10000, 1, 28, 28)\n"
     ]
    }
   ],
   "source": [
    "transform = ToTensor()\n",
    "\n",
    "\"Set download=True to download dataset online\"\n",
    "data_path = './data_'\n",
    "mnist_train = FashionMNIST(data_path, train=True, download=True, transform=transform)\n",
    "mnist_test = FashionMNIST(data_path, train=False, download=True, transform=transform)\n",
    "X_train = np.array(np.zeros(shape=(60000,1,28,28)))\n",
    "Y_train = np.array(np.zeros(shape=(60000,)))\n",
    "X_test = np.array(np.zeros(shape=(10000,1,28,28)))\n",
    "Y_test = np.array(np.zeros(shape=(10000,)))\n",
    "for i in range (0, 60000):\n",
    "  image, label = mnist_train[i]\n",
    "  X_train[i] = image.data\n",
    "  Y_train[i] = label\n",
    "\n",
    "for i in range (0, 10000):\n",
    "  image, label = mnist_test[i]\n",
    "  X_test[i] = image.data\n",
    "  Y_test[i] = label\n",
    "\n",
    "\n",
    "X_train = Tensor(X_train, True, depends_on=[])\n",
    "Y_train = Tensor(Y_train, True, depends_on=[])\n",
    "X_test = Tensor(X_test, True, depends_on=[])\n",
    "Y_test = Tensor(Y_test, True, depends_on=[])\n",
    "Y_train_to_one_hot = to_one_hot(Y_train, 10)\n",
    "Y_test_to_one_hot = to_one_hot(Y_test, 10)\n",
    "\n",
    "print(f\"\\nTraining samples: {X_train.data.shape}, Testing samples: {X_test.data.shape}\")"
   ]
  },
  {
   "cell_type": "code",
   "execution_count": 27,
   "metadata": {
    "id": "_UFyf0u0fY_m"
   },
   "outputs": [],
   "source": [
    "#TODO Define your model\n",
    "class MyModel(Model):\n",
    "    def __init__(self):\n",
    "        super(MyModel, self).__init__()\n",
    "        self.conv1 = nn.Conv2d(1, 32, kernel_size=(3,3), padding=(2,2))\n",
    "        self.conv3 = nn.Conv2d(32, 64, kernel_size=(3,3), padding=(2,2))\n",
    "        self.maxpool2 = nn.MaxPool2d(1,2,kernel_size=(4, 4), stride=(4, 4))\n",
    "        self.fc1 = nn.Linear(4096, 256)\n",
    "        self.fc3 = nn.Linear(256, 10)\n",
    "        self.relu = active_func.relu\n",
    "        self.softmax = active_func.softmax\n",
    "\n",
    "    def forward(self, x: Tensor):\n",
    "        x = self.conv1(x)\n",
    "        x = self.relu(x)\n",
    "        # x = self.dropout(x)\n",
    "\n",
    "        x = self.conv3(x)\n",
    "        x = self.relu(x)\n",
    "        # x = self.dropout(x)\n",
    "\n",
    "        x = self.maxpool2(x)\n",
    "        x = util.flatten(x,1)\n",
    "\n",
    "        x = self.fc1(x)\n",
    "        x = self.relu(x)\n",
    "        # x = self.dropout(x)\n",
    "\n",
    "        x = self.fc3(x)\n",
    "        x = self.softmax(x)\n",
    "        return x\n"
   ]
  },
  {
   "cell_type": "code",
   "execution_count": 28,
   "metadata": {
    "colab": {
     "base_uri": "https://localhost:8080/"
    },
    "id": "K_LtZJUQfY_n",
    "outputId": "0806f850-d4ab-4b1d-f942-414701c2876c"
   },
   "outputs": [
    {
     "name": "stdout",
     "output_type": "stream",
     "text": [
      "conv1:  conv 2d - total params: 9 - kernel: (3, 3), stride: (1, 1), padding: (2, 2)\n",
      "conv3:  conv 2d - total params: 9 - kernel: (3, 3), stride: (1, 1), padding: (2, 2)\n",
      "maxpool2:  max pool 2d - kernel: (4, 4), stride: (4, 4), padding: (1, 1)\n",
      "fc1:  linear - total param: 1048576 - in: 4096, out: 256\n",
      "fc3:  linear - total param: 2560 - in: 256, out: 10\n",
      "None\n"
     ]
    }
   ],
   "source": [
    "model = MyModel()\n",
    "\n",
    "print(model.summary())"
   ]
  },
  {
   "cell_type": "code",
   "execution_count": 29,
   "metadata": {
    "id": "1XN4TXK0fY_n"
   },
   "outputs": [],
   "source": [
    "def one_epoch_learning(\n",
    "    model: Model,\n",
    "    optimizer: optim.Optimizer,\n",
    "    X_train: Tensor,\n",
    "    Y_train: Tensor,\n",
    "    Y_without_hot:Tensor,\n",
    "    loss_function,\n",
    "    batch_size: int\n",
    ") -> int:\n",
    "    accs = 0\n",
    "    input_size = X_train.data.shape[0]\n",
    "    for start in range(0, input_size, batch_size):\n",
    "        end = min(start + batch_size, input_size)\n",
    "        data = Tensor(X_train.data[start:end])\n",
    "        label = Tensor(Y_train.data[start:end])\n",
    "        predictions = model(data)\n",
    "        optimizer.zero_grad()\n",
    "        loss = loss_function(predictions, label)\n",
    "        # print(f\"loss = {loss}\")\n",
    "        loss.backward()\n",
    "        optimizer.step()\n",
    "        accs += np.sum(np.argmax(predictions.data, 1) == Y_without_hot.data[start: end])\n",
    "\n",
    "    return accs\n"
   ]
  },
  {
   "cell_type": "code",
   "execution_count": 30,
   "metadata": {
    "id": "bBvF8M6jfY_n"
   },
   "outputs": [],
   "source": [
    "#don't change this cell\n",
    "def calculate_accuracy(\n",
    "    model: Model,\n",
    "    X_test,\n",
    "    Y_test,\n",
    "    batch_size,\n",
    ") -> int:\n",
    "    accs = 0\n",
    "    input_count = X_test.data.shape[0]\n",
    "    for i in range(0, input_count, batch_size):\n",
    "        j = min (i + batch_size, input_count)\n",
    "        data= X_test[i:j]\n",
    "        label= Y_test[i:j]\n",
    "        res: Tensor = model(data)\n",
    "        accs += np.sum(np.argmax(res.data,1)==np.argmax(label.data,1))\n",
    "    return accs"
   ]
  },
  {
   "cell_type": "code",
   "execution_count": 31,
   "metadata": {
    "cellView": "code",
    "id": "akfkAcjrfY_o"
   },
   "outputs": [],
   "source": [
    "def train(\n",
    "    model: Model,\n",
    "    loss_function,\n",
    "    X_train,\n",
    "    Y_train,\n",
    "    Y_without_hot,\n",
    "    X_test,\n",
    "    Y_test,\n",
    "    optimizer: optim.Optimizer,\n",
    "    train_batch_size: int,\n",
    "    test_batch_size: int,\n",
    "    epoch: int,\n",
    "):\n",
    "    results_train = []\n",
    "        res_train = one_epoch_learning(model,optimizer,X_train,Y_train,Y_without_hot,loss_function, train_batch_size)\n",
    "        results_train.append(res_train / Y_train.shape[0])\n",
    "        res_test = calculate_accuracy(model, X_test, Y_test, test_batch_size)\n",
    "        results_test.append(res_test / Y_test.shape[0])\n",
    "    return results_train, results_test"
   ]
  },
  {
   "cell_type": "code",
   "execution_count": 32,
   "metadata": {
    "colab": {
     "base_uri": "https://localhost:8080/"
    },
    "id": "4IMyJqEafY_o",
    "outputId": "9e6f5b86-0af0-4238-b28d-6770a36e0bc6"
   },
   "outputs": [
    {
     "name": "stderr",
     "output_type": "stream",
     "text": [
      "100%|██████████| 5/5 [39:20<00:00, 472.12s/it]\n"
     ]
    }
   ],
   "source": [
    "#TODO set EPOCH and optimizer and loss function\n",
    "EPOCH = 5\n",
    "train_batch_size = 64\n",
    "test_batch_size = 64\n",
    "optimizer = optim.SGD(model.parameters(), learning_rate=0.001)\n",
    "loss = loss_func.CategoricalCrossEntropy\n",
    "train_accs, test_accs = train(model, loss, X_train, Y_train_to_one_hot,Y_train, X_test, Y_test_to_one_hot, optimizer, train_batch_size, test_batch_size, EPOCH)"
   ]
  },
  {
   "cell_type": "code",
   "execution_count": 33,
   "metadata": {
    "colab": {
     "base_uri": "https://localhost:8080/",
     "height": 449
    },
    "id": "9rRvsItSfY_o",
    "outputId": "44cfb4ca-4cac-4cd5-fd99-f6c88693ac92"
   },
   "outputs": [
    {
     "data": {
      "image/png": "[encoded data removed]",
      "text/plain": [
       "<Figure size 640x480 with 1 Axes>"
      ]
     },
     "metadata": {},
     "output_type": "display_data"
    }
   ],
   "source": [
    "#don't change this cell\n",
    "plt.plot(train_accs, label=\"Train accuracy\")\n",
    "plt.plot(test_accs, label=\"Test accuracy\")\n",
    "plt.xlabel(\"Epoch\")\n",
    "plt.ylabel(\"Accuracy\")\n",
    "plt.legend()\n",
    "plt.show()"
   ]
  },
  {
   "cell_type": "code",
   "execution_count": 34,
   "metadata": {
    "colab": {
     "base_uri": "https://localhost:8080/"
    },
    "id": "9NJTMoUXfY_p",
    "outputId": "54c01693-f60a-4c02-c86f-271a7748e6b7"
   },
   "outputs": [
    {
     "name": "stdout",
     "output_type": "stream",
     "text": [
      "final train acc = 0.82812\n",
      "final test acc = 0.83420\n",
      "max train acc = 0.82812\n",
      "max test acc = 0.83420\n",
      "min train acc = 0.66215\n",
      "min test acc = 0.78190\n"
     ]
    }
   ],
   "source": [
    "#don't change this cell\n",
    "print(f\"final train acc = {train_accs[-1]:.5f}\")\n",
    "print(f\"final test acc = {test_accs[-1]:.5f}\")\n",
    "print(f\"max train acc = {max(train_accs):.5f}\")\n",
    "print(f\"max test acc = {max(test_accs):.5f}\")\n",
    "print(f\"min train acc = {min(train_accs):.5f}\")\n",
    "print(f\"min test acc = {min(test_accs):.5f}\")"
   ]
  },
  {
   "cell_type": "code",
   "execution_count": 34,
   "metadata": {
    "id": "s_HthlqrfY_p"
   },
   "outputs": [],
   "source": []
  }
 ],
 "metadata": {
  "accelerator": "GPU",
  "colab": {
   "gpuType": "T4",
   "provenance": []
  },
  "kernelspec": {
   "display_name": "Python 3 (ipykernel)",
   "language": "python",
   "name": "python3"
  },
  "language_info": {
   "codemirror_mode": {
    "name": "ipython",
    "version": 3
   },
   "file_extension": ".py",
   "mimetype": "text/x-python",
   "name": "python",
   "nbconvert_exporter": "python",
   "pygments_lexer": "ipython3",
   "version": "3.11.7"
  }
 },
 "nbformat": 4,
 "nbformat_minor": 4
}
