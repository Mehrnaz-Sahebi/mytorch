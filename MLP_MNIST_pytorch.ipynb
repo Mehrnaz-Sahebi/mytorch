{
  "cells": [
    {
      "cell_type": "markdown",
      "metadata": {
        "id": "b9m4X68MVhDw"
      },
      "source": [
        "### Install Required Libs"
      ]
    },
    {
      "cell_type": "code",
      "execution_count": 167,
      "metadata": {
        "id": "5-6RvCYPVhD2"
      },
      "outputs": [],
      "source": [
        "# only local run: install required libs (recommended python version 3.10)\n",
        "# %pip install numpy\n",
        "# %pip install matplotlib\n",
        "# %pip install torch torchvision torchaudio tqdm"
      ]
    },
    {
      "cell_type": "markdown",
      "metadata": {
        "id": "bG2g5_7nVhD6"
      },
      "source": [
        "### Import Libs"
      ]
    },
    {
      "cell_type": "code",
      "execution_count": 168,
      "metadata": {
        "id": "smInckiUVhD8"
      },
      "outputs": [],
      "source": [
        "import torch\n",
        "import torch.nn as nn\n",
        "import torch.nn.functional as Functions\n",
        "import torch.optim as Optimizers\n",
        "\n",
        "from torchvision.datasets import FashionMNIST\n",
        "from torchvision.transforms import ToTensor\n",
        "from torch.utils.data import DataLoader\n",
        "from tqdm.auto import tqdm\n",
        "\n",
        "import matplotlib.pyplot as plt"
      ]
    },
    {
      "cell_type": "markdown",
      "metadata": {
        "id": "2RecoLEVVhD_"
      },
      "source": [
        "### Set Device\n",
        "You can use GPU instead of CPU for faster calculation!"
      ]
    },
    {
      "cell_type": "code",
      "execution_count": 169,
      "metadata": {
        "id": "4Et0GAhiVhEA",
        "colab": {
          "base_uri": "https://localhost:8080/"
        },
        "outputId": "94c96490-b5ca-453a-d9a5-fa3e8f66c324"
      },
      "outputs": [
        {
          "output_type": "stream",
          "name": "stdout",
          "text": [
            "cpu\n"
          ]
        }
      ],
      "source": [
        "device = \"cuda\" if torch.cuda.is_available() else \"cpu\"\n",
        "print(device)"
      ]
    },
    {
      "cell_type": "markdown",
      "metadata": {
        "id": "Qq9-qtQmVhED"
      },
      "source": [
        "### Download CIFAR-10 Dataset and Transform to Tensor"
      ]
    },
    {
      "cell_type": "code",
      "execution_count": 170,
      "metadata": {
        "id": "RSCTyC5_VhEE"
      },
      "outputs": [],
      "source": [
        "transform = ToTensor()\n",
        "\n",
        "\"Set download=True to download dataset online\"\n",
        "data_path = './data_'\n",
        "mnist_train = FashionMNIST(data_path, train=True, download=True, transform=transform)\n",
        "mnist_test = FashionMNIST(data_path, train=False, download=True, transform=transform)"
      ]
    },
    {
      "cell_type": "markdown",
      "metadata": {
        "id": "ZXGdqSxZVhEH"
      },
      "source": [
        "### A Brief View on Data"
      ]
    },
    {
      "cell_type": "code",
      "execution_count": 171,
      "metadata": {
        "id": "FVInp0mHVhEJ",
        "colab": {
          "base_uri": "https://localhost:8080/"
        },
        "outputId": "241885fa-05b0-49b4-94cc-9acf7165c847"
      },
      "outputs": [
        {
          "output_type": "stream",
          "name": "stdout",
          "text": [
            "Training:  60000\n",
            "Testing:  10000\n",
            "<class 'tuple'>\n",
            "<class 'torch.Tensor'>\n",
            "torch.Size([1, 28, 28])\n",
            "['T-shirt/top', 'Trouser', 'Pullover', 'Dress', 'Coat', 'Sandal', 'Shirt', 'Sneaker', 'Bag', 'Ankle boot']\n",
            "9\n",
            "Ankle boot\n"
          ]
        }
      ],
      "source": [
        "# size of training and test sets\n",
        "print(\"Training: \", len(mnist_train))\n",
        "print(\"Testing: \", len(mnist_test))\n",
        "\n",
        "# type of train and test: it is a collection of tuple(tensor, label)\n",
        "print(type(mnist_train[0]))\n",
        "\n",
        "# label, as you know, is the class of image\n",
        "# tensor contains image data (You will learn more about Tensor later)\n",
        "image, label = mnist_train[0]\n",
        "print(type(image))\n",
        "\n",
        "# lets check the dimension - it is a 28x28 RGB image\n",
        "print(image.shape)\n",
        "\n",
        "# lets see what classes we have\n",
        "classes = mnist_train.classes\n",
        "print(classes)\n",
        "print(label)\n",
        "print(classes[label])"
      ]
    },
    {
      "cell_type": "markdown",
      "metadata": {
        "id": "dtldNpC1VhEM"
      },
      "source": [
        "### Define Batch Size\n",
        "It is important to understand that to build the Neural Network we will work with a large number of parameters. For this reason, it makes sense to load training data in batches."
      ]
    },
    {
      "cell_type": "code",
      "execution_count": 172,
      "metadata": {
        "id": "0Sk12Ki-VhEN"
      },
      "outputs": [],
      "source": [
        "\"TODO: set a proper batch size\"\n",
        "train_loader = DataLoader(\n",
        "    dataset= mnist_train,\n",
        "    batch_size=32,\n",
        "    shuffle=True\n",
        ")\n",
        "test_loader = DataLoader(\n",
        "    dataset= mnist_test,\n",
        "    batch_size=32,\n",
        "    shuffle=True\n",
        ")"
      ]
    },
    {
      "cell_type": "markdown",
      "metadata": {
        "id": "41TeQnZoVhEP"
      },
      "source": [
        "### Define Model\n",
        "Here you need to define your model architecture, use your knowledge of ANN to design one."
      ]
    },
    {
      "cell_type": "code",
      "execution_count": 173,
      "metadata": {
        "id": "rByc88kIVhEP"
      },
      "outputs": [],
      "source": [
        "from re import X\n",
        "class Model(nn.Module):\n",
        "    def __init__(self):\n",
        "        super(Model, self).__init__()\n",
        "        \"TODO: define model layers\"\n",
        "        self.fc1 = nn.Linear(28*28,512)\n",
        "        self.fc2 = nn.Linear(512,256)\n",
        "        self.fc3 = nn.Linear(256,64)\n",
        "        self.fc4 = nn.Linear(64,32)\n",
        "        self.fc5 = nn.Linear(32,10)\n",
        "        self.dropout = nn.Dropout(0.2)\n",
        "\n",
        "    def forward(self, x):\n",
        "        \"TODO: define model forward path\"\n",
        "        x = torch.flatten(x, start_dim=1)\n",
        "        x = self.fc1(x)\n",
        "        x = Functions.relu(x)\n",
        "        x = self.dropout(x)\n",
        "        x = self.fc2(x)\n",
        "        x = Functions.relu(x)\n",
        "        x = self.dropout(x)\n",
        "        x = self.fc3(x)\n",
        "        x = Functions.relu(x)\n",
        "        x = self.dropout(x)\n",
        "        x = self.fc4(x)\n",
        "        x = Functions.relu(x)\n",
        "        x = self.dropout(x)\n",
        "        x = self.fc5(x)\n",
        "        x = Functions.log_softmax(x, dim=1)\n",
        "        return x"
      ]
    },
    {
      "cell_type": "markdown",
      "metadata": {
        "id": "8zQ8yPNaVhEQ"
      },
      "source": [
        "### Create Model"
      ]
    },
    {
      "cell_type": "code",
      "execution_count": 174,
      "metadata": {
        "id": "vkPuwaE4VhER",
        "colab": {
          "base_uri": "https://localhost:8080/"
        },
        "outputId": "4a5985e0-6ff5-4211-c1b3-c80a80055b73"
      },
      "outputs": [
        {
          "output_type": "execute_result",
          "data": {
            "text/plain": [
              "Model(\n",
              "  (fc1): Linear(in_features=784, out_features=512, bias=True)\n",
              "  (fc2): Linear(in_features=512, out_features=256, bias=True)\n",
              "  (fc3): Linear(in_features=256, out_features=64, bias=True)\n",
              "  (fc4): Linear(in_features=64, out_features=32, bias=True)\n",
              "  (fc5): Linear(in_features=32, out_features=10, bias=True)\n",
              "  (dropout): Dropout(p=0.2, inplace=False)\n",
              ")"
            ]
          },
          "metadata": {},
          "execution_count": 174
        }
      ],
      "source": [
        "model = Model().to(device)\n",
        "model"
      ]
    },
    {
      "cell_type": "markdown",
      "metadata": {
        "id": "SqW7kdQsVhES"
      },
      "source": [
        "### Choose a Loss Function"
      ]
    },
    {
      "cell_type": "code",
      "execution_count": 175,
      "metadata": {
        "id": "NNh4joE1VhET"
      },
      "outputs": [],
      "source": [
        "\"TODO: set a proper loss function\"\n",
        "criterion = nn.CrossEntropyLoss()"
      ]
    },
    {
      "cell_type": "markdown",
      "metadata": {
        "id": "jgje7ixhVhEU"
      },
      "source": [
        "### Choose an Optimizer"
      ]
    },
    {
      "cell_type": "code",
      "execution_count": 176,
      "metadata": {
        "id": "j9R5TXDDVhEV"
      },
      "outputs": [],
      "source": [
        "\"TODO: set a proper optimizer\"\n",
        "optimizer = Optimizers.Adam(model.parameters(), lr=0.001)"
      ]
    },
    {
      "cell_type": "markdown",
      "metadata": {
        "id": "kAjQTr-SVhEW"
      },
      "source": [
        "### Training Model\n",
        "After configuring all required parameters, it is time to train your model!"
      ]
    },
    {
      "cell_type": "code",
      "execution_count": 177,
      "metadata": {
        "id": "eqDDIdcBVhEX",
        "colab": {
          "base_uri": "https://localhost:8080/",
          "height": 49,
          "referenced_widgets": [
            "cdbe31357b314a87a04aa2cd94662e1a",
            "0d48055ac6fe405fa227a8da9cb668bb",
            "62d7ab2c5c9a4e258aaa47d7278d0ea2",
            "9bda6a9ae0334d8a9e0a2e02292a2504",
            "c3a774171fc94516ac9f4dd7f45c4000",
            "019961c8e4e34058b4edcc54ea6d44ae",
            "13299f27a6bc45ab89c77e6b7a31bac3",
            "8b12f0b1de904e8c925ac7ffd770ce02",
            "613a1432002d4f4888396b4d9dabf0f5",
            "77eb4e892b364d6bbf12cc1daf4ffa08",
            "9e8d71d279e340a28f986fa16d47037a"
          ]
        },
        "outputId": "6feea8d3-ae08-42f7-debe-f827347e4c1d"
      },
      "outputs": [
        {
          "output_type": "display_data",
          "data": {
            "text/plain": [
              "  0%|          | 0/8 [00:00<?, ?it/s]"
            ],
            "application/vnd.jupyter.widget-view+json": {
              "version_major": 2,
              "version_minor": 0,
              "model_id": "cdbe31357b314a87a04aa2cd94662e1a"
            }
          },
          "metadata": {}
        }
      ],
      "source": [
        "\"TODO: set an optimal epoch\"\n",
        "EPOCHS = 8\n",
        "\n",
        "\" you don't need to change the rest of this code\"\n",
        "\n",
        "train_correct  = []\n",
        "test_correct = []\n",
        "\n",
        "best_train_acc = 0\n",
        "best_test_acc = 0\n",
        "\n",
        "for e in tqdm(range(EPOCHS)):\n",
        "\n",
        "  trn_corr = 0\n",
        "  tst_corr = 0\n",
        "\n",
        "  # training\n",
        "  model.train()\n",
        "  for X_train, y_train in train_loader:\n",
        "    X_train_dev = torch.autograd.Variable(X_train).to(device)\n",
        "    y_train_dev = torch.autograd.Variable(y_train).to(device)\n",
        "    # convert y_train_dev to one hots so the categorical cross entropy loss function works properly\n",
        "    y_train_dev_to_hot_ones = Functions.one_hot(y_train_dev, num_classes=10)\n",
        "    optimizer.zero_grad()\n",
        "    y_pred_dev = model(X_train_dev)\n",
        "    loss = criterion(y_pred_dev, y_train_dev_to_hot_ones.float())\n",
        "\n",
        "    loss.backward()\n",
        "    optimizer.step()\n",
        "\n",
        "    predicted = torch.argmax(y_pred_dev, 1)\n",
        "    trn_corr += torch.sum(predicted == y_train_dev)\n",
        "\n",
        "  acc = (trn_corr/len(mnist_train)).item()\n",
        "  best_train_acc = acc if(best_train_acc < acc) else best_train_acc\n",
        "  train_correct.append(acc)\n",
        "\n",
        "  # testing\n",
        "  model.eval()\n",
        "  for X_test, y_test in test_loader:\n",
        "\n",
        "    X_test = X_test.to(device)\n",
        "    y_test = y_test.to(device)\n",
        "\n",
        "    predicted = model(X_test)\n",
        "    predicted = torch.argmax(predicted, 1)\n",
        "    tst_corr += torch.sum(predicted == y_test)\n",
        "\n",
        "  acc = (tst_corr/len(mnist_test)).item()\n",
        "  best_test_acc = acc if(best_test_acc < acc) else best_test_acc\n",
        "  test_correct.append(acc)"
      ]
    },
    {
      "cell_type": "markdown",
      "metadata": {
        "id": "weqa6DdoVhEY"
      },
      "source": [
        "### Evaluation\n",
        "Here you can see your model performance."
      ]
    },
    {
      "cell_type": "code",
      "execution_count": 178,
      "metadata": {
        "id": "o3SWOPPEVhEZ",
        "colab": {
          "base_uri": "https://localhost:8080/",
          "height": 501
        },
        "outputId": "0264c20d-a377-4d95-a853-df13945349fb"
      },
      "outputs": [
        {
          "output_type": "display_data",
          "data": {
            "text/plain": [
              "<Figure size 640x480 with 1 Axes>"
            ],
            "image/png": "[encoded data removed]"
          },
          "metadata": {}
        },
        {
          "output_type": "stream",
          "name": "stdout",
          "text": [
            "\n",
            "On train - best accuracy: 0.88, final accuracy: 0.88\n",
            "On test - best accuracy: 0.87, final accuracy: 0.87\n"
          ]
        }
      ],
      "source": [
        "plt.plot(train_correct, label='train accuracy')\n",
        "plt.plot(test_correct, label = 'test accuracy')\n",
        "plt.xlabel('Epoch')\n",
        "plt.ylabel('Accuracy')\n",
        "plt.legend(loc='lower right')\n",
        "plt.show();\n",
        "\n",
        "print(\"\\nOn train - best accuracy: {:.2f}, final accuracy: {:.2f}\".format(best_train_acc, train_correct[-1]))\n",
        "print(\"On test - best accuracy: {:.2f}, final accuracy: {:.2f}\".format(best_test_acc, test_correct[-1]))"
      ]
    }
  ],
  "metadata": {
    "accelerator": "GPU",
    "colab": {
      "gpuType": "T4",
      "provenance": []
    },
    "kernelspec": {
      "display_name": "Python 3",
      "name": "python3"
    },
    "language_info": {
      "codemirror_mode": {
        "name": "ipython",
        "version": 3
      },
      "file_extension": ".py",
      "mimetype": "text/x-python",
      "name": "python",
      "nbconvert_exporter": "python",
      "pygments_lexer": "ipython3",
      "version": "3.11.7"
    },
    "widgets": {
      "application/vnd.jupyter.widget-state+json": {
        "cdbe31357b314a87a04aa2cd94662e1a": {
          "model_module": "@jupyter-widgets/controls",
          "model_name": "HBoxModel",
          "model_module_version": "1.5.0",
          "state": {
            "_dom_classes": [],
            "_model_module": "@jupyter-widgets/controls",
            "_model_module_version": "1.5.0",
            "_model_name": "HBoxModel",
            "_view_count": null,
            "_view_module": "@jupyter-widgets/controls",
            "_view_module_version": "1.5.0",
            "_view_name": "HBoxView",
            "box_style": "",
            "children": [
              "IPY_MODEL_0d48055ac6fe405fa227a8da9cb668bb",
              "IPY_MODEL_62d7ab2c5c9a4e258aaa47d7278d0ea2",
              "IPY_MODEL_9bda6a9ae0334d8a9e0a2e02292a2504"
            ],
            "layout": "IPY_MODEL_c3a774171fc94516ac9f4dd7f45c4000"
          }
        },
        "0d48055ac6fe405fa227a8da9cb668bb": {
          "model_module": "@jupyter-widgets/controls",
          "model_name": "HTMLModel",
          "model_module_version": "1.5.0",
          "state": {
            "_dom_classes": [],
            "_model_module": "@jupyter-widgets/controls",
            "_model_module_version": "1.5.0",
            "_model_name": "HTMLModel",
            "_view_count": null,
            "_view_module": "@jupyter-widgets/controls",
            "_view_module_version": "1.5.0",
            "_view_name": "HTMLView",
            "description": "",
            "description_tooltip": null,
            "layout": "IPY_MODEL_019961c8e4e34058b4edcc54ea6d44ae",
            "placeholder": "​",
            "style": "IPY_MODEL_13299f27a6bc45ab89c77e6b7a31bac3",
            "value": "100%"
          }
        },
        "62d7ab2c5c9a4e258aaa47d7278d0ea2": {
          "model_module": "@jupyter-widgets/controls",
          "model_name": "FloatProgressModel",
          "model_module_version": "1.5.0",
          "state": {
            "_dom_classes": [],
            "_model_module": "@jupyter-widgets/controls",
            "_model_module_version": "1.5.0",
            "_model_name": "FloatProgressModel",
            "_view_count": null,
            "_view_module": "@jupyter-widgets/controls",
            "_view_module_version": "1.5.0",
            "_view_name": "ProgressView",
            "bar_style": "success",
            "description": "",
            "description_tooltip": null,
            "layout": "IPY_MODEL_8b12f0b1de904e8c925ac7ffd770ce02",
            "max": 8,
            "min": 0,
            "orientation": "horizontal",
            "style": "IPY_MODEL_613a1432002d4f4888396b4d9dabf0f5",
            "value": 8
          }
        },
        "9bda6a9ae0334d8a9e0a2e02292a2504": {
          "model_module": "@jupyter-widgets/controls",
          "model_name": "HTMLModel",
          "model_module_version": "1.5.0",
          "state": {
            "_dom_classes": [],
            "_model_module": "@jupyter-widgets/controls",
            "_model_module_version": "1.5.0",
            "_model_name": "HTMLModel",
            "_view_count": null,
            "_view_module": "@jupyter-widgets/controls",
            "_view_module_version": "1.5.0",
            "_view_name": "HTMLView",
            "description": "",
            "description_tooltip": null,
            "layout": "IPY_MODEL_77eb4e892b364d6bbf12cc1daf4ffa08",
            "placeholder": "​",
            "style": "IPY_MODEL_9e8d71d279e340a28f986fa16d47037a",
            "value": " 8/8 [04:56&lt;00:00, 37.45s/it]"
          }
        },
        "c3a774171fc94516ac9f4dd7f45c4000": {
          "model_module": "@jupyter-widgets/base",
          "model_name": "LayoutModel",
          "model_module_version": "1.2.0",
          "state": {
            "_model_module": "@jupyter-widgets/base",
            "_model_module_version": "1.2.0",
            "_model_name": "LayoutModel",
            "_view_count": null,
            "_view_module": "@jupyter-widgets/base",
            "_view_module_version": "1.2.0",
            "_view_name": "LayoutView",
            "align_content": null,
            "align_items": null,
            "align_self": null,
            "border": null,
            "bottom": null,
            "display": null,
            "flex": null,
            "flex_flow": null,
            "grid_area": null,
            "grid_auto_columns": null,
            "grid_auto_flow": null,
            "grid_auto_rows": null,
            "grid_column": null,
            "grid_gap": null,
            "grid_row": null,
            "grid_template_areas": null,
            "grid_template_columns": null,
            "grid_template_rows": null,
            "height": null,
            "justify_content": null,
            "justify_items": null,
            "left": null,
            "margin": null,
            "max_height": null,
            "max_width": null,
            "min_height": null,
            "min_width": null,
            "object_fit": null,
            "object_position": null,
            "order": null,
            "overflow": null,
            "overflow_x": null,
            "overflow_y": null,
            "padding": null,
            "right": null,
            "top": null,
            "visibility": null,
            "width": null
          }
        },
        "019961c8e4e34058b4edcc54ea6d44ae": {
          "model_module": "@jupyter-widgets/base",
          "model_name": "LayoutModel",
          "model_module_version": "1.2.0",
          "state": {
            "_model_module": "@jupyter-widgets/base",
            "_model_module_version": "1.2.0",
            "_model_name": "LayoutModel",
            "_view_count": null,
            "_view_module": "@jupyter-widgets/base",
            "_view_module_version": "1.2.0",
            "_view_name": "LayoutView",
            "align_content": null,
            "align_items": null,
            "align_self": null,
            "border": null,
            "bottom": null,
            "display": null,
            "flex": null,
            "flex_flow": null,
            "grid_area": null,
            "grid_auto_columns": null,
            "grid_auto_flow": null,
            "grid_auto_rows": null,
            "grid_column": null,
            "grid_gap": null,
            "grid_row": null,
            "grid_template_areas": null,
            "grid_template_columns": null,
            "grid_template_rows": null,
            "height": null,
            "justify_content": null,
            "justify_items": null,
            "left": null,
            "margin": null,
            "max_height": null,
            "max_width": null,
            "min_height": null,
            "min_width": null,
            "object_fit": null,
            "object_position": null,
            "order": null,
            "overflow": null,
            "overflow_x": null,
            "overflow_y": null,
            "padding": null,
            "right": null,
            "top": null,
            "visibility": null,
            "width": null
          }
        },
        "13299f27a6bc45ab89c77e6b7a31bac3": {
          "model_module": "@jupyter-widgets/controls",
          "model_name": "DescriptionStyleModel",
          "model_module_version": "1.5.0",
          "state": {
            "_model_module": "@jupyter-widgets/controls",
            "_model_module_version": "1.5.0",
            "_model_name": "DescriptionStyleModel",
            "_view_count": null,
            "_view_module": "@jupyter-widgets/base",
            "_view_module_version": "1.2.0",
            "_view_name": "StyleView",
            "description_width": ""
          }
        },
        "8b12f0b1de904e8c925ac7ffd770ce02": {
          "model_module": "@jupyter-widgets/base",
          "model_name": "LayoutModel",
          "model_module_version": "1.2.0",
          "state": {
            "_model_module": "@jupyter-widgets/base",
            "_model_module_version": "1.2.0",
            "_model_name": "LayoutModel",
            "_view_count": null,
            "_view_module": "@jupyter-widgets/base",
            "_view_module_version": "1.2.0",
            "_view_name": "LayoutView",
            "align_content": null,
            "align_items": null,
            "align_self": null,
            "border": null,
            "bottom": null,
            "display": null,
            "flex": null,
            "flex_flow": null,
            "grid_area": null,
            "grid_auto_columns": null,
            "grid_auto_flow": null,
            "grid_auto_rows": null,
            "grid_column": null,
            "grid_gap": null,
            "grid_row": null,
            "grid_template_areas": null,
            "grid_template_columns": null,
            "grid_template_rows": null,
            "height": null,
            "justify_content": null,
            "justify_items": null,
            "left": null,
            "margin": null,
            "max_height": null,
            "max_width": null,
            "min_height": null,
            "min_width": null,
            "object_fit": null,
            "object_position": null,
            "order": null,
            "overflow": null,
            "overflow_x": null,
            "overflow_y": null,
            "padding": null,
            "right": null,
            "top": null,
            "visibility": null,
            "width": null
          }
        },
        "613a1432002d4f4888396b4d9dabf0f5": {
          "model_module": "@jupyter-widgets/controls",
          "model_name": "ProgressStyleModel",
          "model_module_version": "1.5.0",
          "state": {
            "_model_module": "@jupyter-widgets/controls",
            "_model_module_version": "1.5.0",
            "_model_name": "ProgressStyleModel",
            "_view_count": null,
            "_view_module": "@jupyter-widgets/base",
            "_view_module_version": "1.2.0",
            "_view_name": "StyleView",
            "bar_color": null,
            "description_width": ""
          }
        },
        "77eb4e892b364d6bbf12cc1daf4ffa08": {
          "model_module": "@jupyter-widgets/base",
          "model_name": "LayoutModel",
          "model_module_version": "1.2.0",
          "state": {
            "_model_module": "@jupyter-widgets/base",
            "_model_module_version": "1.2.0",
            "_model_name": "LayoutModel",
            "_view_count": null,
            "_view_module": "@jupyter-widgets/base",
            "_view_module_version": "1.2.0",
            "_view_name": "LayoutView",
            "align_content": null,
            "align_items": null,
            "align_self": null,
            "border": null,
            "bottom": null,
            "display": null,
            "flex": null,
            "flex_flow": null,
            "grid_area": null,
            "grid_auto_columns": null,
            "grid_auto_flow": null,
            "grid_auto_rows": null,
            "grid_column": null,
            "grid_gap": null,
            "grid_row": null,
            "grid_template_areas": null,
            "grid_template_columns": null,
            "grid_template_rows": null,
            "height": null,
            "justify_content": null,
            "justify_items": null,
            "left": null,
            "margin": null,
            "max_height": null,
            "max_width": null,
            "min_height": null,
            "min_width": null,
            "object_fit": null,
            "object_position": null,
            "order": null,
            "overflow": null,
            "overflow_x": null,
            "overflow_y": null,
            "padding": null,
            "right": null,
            "top": null,
            "visibility": null,
            "width": null
          }
        },
        "9e8d71d279e340a28f986fa16d47037a": {
          "model_module": "@jupyter-widgets/controls",
          "model_name": "DescriptionStyleModel",
          "model_module_version": "1.5.0",
          "state": {
            "_model_module": "@jupyter-widgets/controls",
            "_model_module_version": "1.5.0",
            "_model_name": "DescriptionStyleModel",
            "_view_count": null,
            "_view_module": "@jupyter-widgets/base",
            "_view_module_version": "1.2.0",
            "_view_name": "StyleView",
            "description_width": ""
          }
        }
      }
    }
  },
  "nbformat": 4,
  "nbformat_minor": 0
}